{
 "cells": [
  {
   "cell_type": "code",
   "execution_count": null,
   "metadata": {},
   "outputs": [],
   "source": [
    "from mne.io import read_raw_fif\n",
    "from brainpipe.feature import power\n",
    "import numpy as np\n",
    "import neurokit\n",
    "import time\n",
    "import matplotlib.pyplot as plt"
   ]
  },
  {
   "cell_type": "code",
   "execution_count": null,
   "metadata": {},
   "outputs": [],
   "source": [
    "# 1.\n",
    "# Fetch time series data from any file whatsoever\n",
    "# Must be at least 30 seconds at 250Hz\n",
    "\n",
    "raw = read_raw_fif('/home/hyruuk/GitHub/eegsynth/datafiles/SA04_01_preprocessed.fif.gz', preload=True)\n",
    "raw_rs = raw.copy().resample(250)\n",
    "sf = raw_rs.info['sfreq']\n",
    "\n",
    "eeg_timeseries = np.asarray(raw_rs.get_data()[1:5,7500:15000])"
   ]
  },
  {
   "cell_type": "code",
   "execution_count": null,
   "metadata": {},
   "outputs": [],
   "source": [
    "# 2.\n",
    "# Compute hilbert using brainpipe\n",
    "def get_hilbert(data, freq=1):\n",
    "    f = [[4, 8], [8, 12], [12, 30]]\n",
    "    print(data.shape)\n",
    "    power_obj = power(sf, npts=data.shape, f=f, baseline=None, norm=None, method='hilbert', window=None, width=None, step=None, split=None, time=None)\n",
    "    start = time.time()\n",
    "    power_vals = power_obj.get(data.T)[0].squeeze() # get power values across time\n",
    "    stop = time.time()\n",
    "    print(stop-start)\n",
    "    print(power_vals.shape)\n",
    "    print('Done')\n",
    "    #powow = power_vals[0].squeeze()\n",
    "    dtp = np.average(power_vals[freq,:,:], axis=1) # average sensors and retain the desired freq << must be optimized\n",
    "    t = np.arange(0,len(dtp),1)\n",
    "    plt.plot(t, dtp)\n",
    "    plt.show()\n",
    "    return dtp\n",
    "\n",
    "dtp = get_hilbert(eeg_timeseries, freq=1)\n"
   ]
  },
  {
   "cell_type": "code",
   "execution_count": null,
   "metadata": {},
   "outputs": [],
   "source": [
    "# 3.\n",
    "# Compute complexity using neurokit\n",
    "start = time.time()\n",
    "comp = neurokit.complexity(eeg_timeseries)\n",
    "stop = time.time()\n",
    "print(\"duration of computation :\")\n",
    "print(stop-start)\n",
    "print(comp)\n"
   ]
  },
  {
   "cell_type": "code",
   "execution_count": null,
   "metadata": {},
   "outputs": [],
   "source": [
    "# Let's do the same with simulated data ! \n",
    "\n",
    "import numpy as np\n",
    "\n",
    "fs = 250\n",
    "fund_freq = 10\n",
    "dur = 30\n",
    "samples = np.linspace(0, dur, dur * fs)\n",
    "print(samples)\n",
    "pure = np.sin(2 * np.pi * fund_freq * samples)\n",
    "noise = np.random.normal(0, 1, pure.shape)\n",
    "sim_signal = pure + noise\n",
    "\n",
    "plt.plot(pure)\n",
    "plt.show()\n",
    "plt.plot(noise)\n",
    "plt.show()\n",
    "plt.plot(sim_signal)\n",
    "plt.show()\n",
    "\n",
    "def comp_compute(data, name):\n",
    "    start = time.time()\n",
    "    comp = neurokit.complexity(data)\n",
    "    stop = time.time()\n",
    "\n",
    "    print('Complexity of {}'.format(name))\n",
    "    print(\"Computed in {} seconds\".format(stop-start))\n",
    "    print(comp)\n",
    "    return comp\n",
    "\n",
    "\n",
    "eeg_freqenv = get_hilbert(eeg_timeseries, freq=2)\n",
    "comp = []\n",
    "names = ['pure', 'noise', 'sim_signal', 'eeg_freqenv']\n",
    "for i, data in enumerate([pure, noise, sim_signal, eeg_freqenv]):\n",
    "    comp.append(comp_compute(data, names[i]))\n",
    "    "
   ]
  },
  {
   "cell_type": "code",
   "execution_count": null,
   "metadata": {},
   "outputs": [],
   "source": []
  }
 ],
 "metadata": {
  "kernelspec": {
   "display_name": "electrophy",
   "language": "python",
   "name": "electrophy"
  },
  "language_info": {
   "codemirror_mode": {
    "name": "ipython",
    "version": 3
   },
   "file_extension": ".py",
   "mimetype": "text/x-python",
   "name": "python",
   "nbconvert_exporter": "python",
   "pygments_lexer": "ipython3",
   "version": "3.7.3"
  }
 },
 "nbformat": 4,
 "nbformat_minor": 2
}
